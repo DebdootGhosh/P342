{
 "cells": [
  {
   "cell_type": "code",
   "execution_count": 6,
   "metadata": {},
   "outputs": [
    {
     "name": "stdout",
     "output_type": "stream",
     "text": [
      "Final Sum of the 1/n series is:  7.486469861549344\n"
     ]
    }
   ],
   "source": [
    "num=2\n",
    "sumprv = 0.0\n",
    "sumnxt = 1.0\n",
    "\n",
    "while sumnxt-sumprv>0.001:\n",
    "        sumprv=sumnxt\n",
    "        sumnxt= sumnxt + 1/num\n",
    "        num = num + 1;\n",
    "print(\"Final Sum of the 1/n series is: \", sumnxt)"
   ]
  }
 ],
 "metadata": {
  "kernelspec": {
   "display_name": "Python 3",
   "language": "python",
   "name": "python3"
  },
  "language_info": {
   "codemirror_mode": {
    "name": "ipython",
    "version": 3
   },
   "file_extension": ".py",
   "mimetype": "text/x-python",
   "name": "python",
   "nbconvert_exporter": "python",
   "pygments_lexer": "ipython3",
   "version": "3.8.3"
  }
 },
 "nbformat": 4,
 "nbformat_minor": 4
}
