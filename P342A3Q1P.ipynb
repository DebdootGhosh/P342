{
 "cells": [
  {
   "cell_type": "code",
   "execution_count": 4,
   "metadata": {},
   "outputs": [
    {
     "name": "stdout",
     "output_type": "stream",
     "text": [
      "[[1, 3, 2], [2, 7, 7], [2, 5, 2]]\n",
      "[[1, 3, 2], [2, 7, 7], [2, 5, 2]]\n",
      "[2, -1, 7]\n",
      "The solution:\n",
      "[3.0, 1.0, -2.0]\n",
      "The transformed A matrix:\n",
      "[[1.0, 0.0, 0.0], [0.0, 1.0, 0.0], [0.0, 0.0, 1.0]]\n"
     ]
    }
   ],
   "source": [
    "#Q1\n",
    "n=len(B)\n",
    "def partialpivot(A,B):\n",
    "   \n",
    "    for r in range(n-1):\n",
    "        if abs(A[r][r])==0:\n",
    "            for i in range(r+1,n):\n",
    "                if abs(A[i][r])>abs(A[r][r]):\n",
    "                    for j in range(r,n):\n",
    "                        A[r][j],A[i][j]=A[i][j],A[r][j]\n",
    "                        B[r],B[i]=B[i],B[r]\n",
    "    return B,A\n",
    "                    \n",
    "def gaujor(A,B): \n",
    "\n",
    "    for r in range(n):\n",
    "        partialpivot(A,B)\n",
    "        pivot=A[r][r]\n",
    "        for c in range(r,n):\n",
    "            A[r][c]=A[r][c]/pivot\n",
    "        B[r]=B[r]/pivot\n",
    "                            \n",
    "        for i in range(n):\n",
    "            if i==r or A[i][r]==0: continue \n",
    "            factor=A[i][r]\n",
    "            for j in range(r,n):\n",
    "                A[i][j]=A[i][j]-factor*A[r][j]\n",
    "            B[i]=B[i]-factor*B[r]\n",
    "                \n",
    "    return B,A\n",
    "                                        \n",
    "fileA = open ('GJE1A.txt', 'r' )\n",
    "A=[]\n",
    "for line in fileA.readlines():\n",
    "    A.append([int (x) for x in line.split()])\n",
    "print(A)    \n",
    "B=[2,-1,7]\n",
    "M,N=partialpivot(A,B) \n",
    "print(N)\n",
    "print(M)\n",
    "X,Y=gaujor(A,B)\n",
    "print(\"The solution:\")\n",
    "print(X)\n",
    "print(\"The transformed A matrix:\")\n",
    "print(Y)"
   ]
  },
  {
   "cell_type": "code",
   "execution_count": 5,
   "metadata": {},
   "outputs": [
    {
     "name": "stdout",
     "output_type": "stream",
     "text": [
      "[[0, 2, 5], [3, -1, 2], [1, -1, 3]]\n",
      "[[3, -1, 2], [0, 2, 5], [1, -1, 3]]\n",
      "[-2, 1, 3]\n",
      "The solution:\n",
      "[-2.0, -2.0, 1.0]\n",
      "The transformed A matrix:\n",
      "[[1.0, 0.0, 0.0], [0, 1.0, 0.0], [0.0, 0.0, 1.0]]\n"
     ]
    }
   ],
   "source": [
    "fileA = open ('GJE2A.txt', 'r' )\n",
    "A=[]\n",
    "for line in fileA.readlines():\n",
    "    A.append([int (x) for x in line.split()])\n",
    "print(A)    \n",
    "B=[1,-2,3]\n",
    "M,N=partialpivot(A,B) \n",
    "print(N)\n",
    "print(M)\n",
    "X,Y=gaujor(A,B)\n",
    "print(\"The solution:\")\n",
    "print(X)\n",
    "print(\"The transformed A matrix:\")\n",
    "print(Y)"
   ]
  }
 ],
 "metadata": {
  "kernelspec": {
   "display_name": "Python 3",
   "language": "python",
   "name": "python3"
  },
  "language_info": {
   "codemirror_mode": {
    "name": "ipython",
    "version": 3
   },
   "file_extension": ".py",
   "mimetype": "text/x-python",
   "name": "python",
   "nbconvert_exporter": "python",
   "pygments_lexer": "ipython3",
   "version": "3.8.3"
  }
 },
 "nbformat": 4,
 "nbformat_minor": 4
}
