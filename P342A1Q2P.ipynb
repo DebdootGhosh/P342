{
 "cells": [
  {
   "cell_type": "code",
   "execution_count": 16,
   "metadata": {},
   "outputs": [
    {
     "name": "stdout",
     "output_type": "stream",
     "text": [
      "enter the value of n:7\n",
      "the factorial of 7 is 5040\n"
     ]
    }
   ],
   "source": [
    "num= int(input(\"enter the value of n:\"))\n",
    "m=num\n",
    "factorial=1\n",
    "\n",
    "if num<0 :\n",
    "    print(\"factorial of negative number does not exist\")\n",
    "elif num==0:\n",
    "    print(\"factorial of 0 is 1\")\n",
    "else :\n",
    "    while(num>0):\n",
    "            factorial=factorial*num\n",
    "            num=num-1;\n",
    "    print(\"the factorial of\", m, \"is\",factorial)     "
   ]
  }
 ],
 "metadata": {
  "kernelspec": {
   "display_name": "Python 3",
   "language": "python",
   "name": "python3"
  },
  "language_info": {
   "codemirror_mode": {
    "name": "ipython",
    "version": 3
   },
   "file_extension": ".py",
   "mimetype": "text/x-python",
   "name": "python",
   "nbconvert_exporter": "python",
   "pygments_lexer": "ipython3",
   "version": "3.8.3"
  }
 },
 "nbformat": 4,
 "nbformat_minor": 4
}
