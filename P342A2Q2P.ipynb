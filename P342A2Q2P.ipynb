{
 "cells": [
  {
   "cell_type": "code",
   "execution_count": 2,
   "metadata": {},
   "outputs": [
    {
     "name": "stdout",
     "output_type": "stream",
     "text": [
      "Dot product is :  15.0\n",
      "addition of the above two vectors is: [11.5, -2.1, 5]\n"
     ]
    }
   ],
   "source": [
    "#Q2\n",
    "X = [8.5,-5,4]\n",
    "Y = [3,2.9,1]\n",
    "dotproduct=0\n",
    "for i,j in zip(X,Y):\n",
    "    dotproduct += i*j\n",
    "result=[]\n",
    "for i in range(0,len(X)):\n",
    "    result.append(X[i]+Y[i])\n",
    "    \n",
    "print('Dot product is : ' , dotproduct)\n",
    "print('addition of the above two vectors is:',result)"
   ]
  }
 ],
 "metadata": {
  "kernelspec": {
   "display_name": "Python 3",
   "language": "python",
   "name": "python3"
  },
  "language_info": {
   "codemirror_mode": {
    "name": "ipython",
    "version": 3
   },
   "file_extension": ".py",
   "mimetype": "text/x-python",
   "name": "python",
   "nbconvert_exporter": "python",
   "pygments_lexer": "ipython3",
   "version": "3.8.3"
  }
 },
 "nbformat": 4,
 "nbformat_minor": 4
}
