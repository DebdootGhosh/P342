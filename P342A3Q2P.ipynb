{
 "cells": [
  {
   "cell_type": "code",
   "execution_count": 30,
   "metadata": {},
   "outputs": [
    {
     "name": "stdout",
     "output_type": "stream",
     "text": [
      "the coefficient matrix:\n",
      "[[1, -3, 7], [-1, 4, -7], [-1, 3, -6]]\n",
      "identity matrix:\n",
      "[[1, 0, 0], [0, 1, 0], [0, 0, 1]]\n",
      "The inverse is:\n",
      "[[-3.0, 3.0, -7.0], [1.0, 1.0, 0.0], [1.0, 0.0, 1.0]]\n",
      "the result of multiplication is:\n",
      "[[1.0, 0.0, 0.0], [0.0, 1.0, 0.0], [0.0, 0.0, 1.0]]\n"
     ]
    }
   ],
   "source": [
    "#Q2\n",
    "n=len(B)\n",
    "def partialpivot(A,B):\n",
    "   \n",
    "    for r in range(n-1):\n",
    "        if abs(A[r][r])==0:\n",
    "            for i in range(r+1,n):\n",
    "                if abs(A[i][r])>abs(A[r][r]):\n",
    "                    for j in range(r,n):\n",
    "                        A[r][j],A[i][j]=A[i][j],A[r][j]\n",
    "                        B[r][j],B[i][j]=B[i][j],B[r][j]\n",
    "    return B,A\n",
    "                    \n",
    "def gaujor(A,B): \n",
    "    partialpivot(A,B)\n",
    "    for r in range(n):\n",
    "        pivot=A[r][r]\n",
    "        for c in range(r,n):\n",
    "            A[r][c]=A[r][c]/pivot\n",
    "            B[r][c]=B[r][c]/pivot\n",
    "                                \n",
    "        for i in range(n):\n",
    "            if i==r or A[i][r]==0: continue\n",
    "            factor=A[i][r]\n",
    "            for j in range(n):\n",
    "                B[i][j]=B[i][j]-factor*B[r][j]\n",
    "                A[i][j]=A[i][j]-factor*A[r][j]\n",
    "                \n",
    "    return B\n",
    "def matmulti(M,N):\n",
    "    \n",
    "    result=[[0] * len(N[0]) for _ in range(len(M))]\n",
    "    \n",
    "    for i in range(len(M)): \n",
    "        for j in range(len(N[0])): \n",
    "            for k in range(len(N)): \n",
    "                result[i][j] =result[i][j] + M[i][k] * N[k][j] \n",
    "    return result\n",
    "\n",
    "\n",
    "fileA = open ('invmatA.txt', 'r' )\n",
    "A=[]\n",
    "for line in fileA.readlines():\n",
    "    A.append([int (x) for x in line.split()])\n",
    "print(\"the coefficient matrix:\")    \n",
    "print(A)    \n",
    "fileB = open ('id.txt', 'r' )\n",
    "B=[]\n",
    "for line in fileB.readlines():\n",
    "    B.append([int (x) for x in line.split()])\n",
    "print(\"identity matrix:\")    \n",
    "print(B)    \n",
    "\n",
    "X=gaujor(A,B)\n",
    "print(\"The inverse is:\")\n",
    "print(X)\n",
    "\n",
    "fileM = open ('invmatA.txt', 'r' )\n",
    "M=[]\n",
    "for line in fileM.readlines():\n",
    "    M.append([int (x) for x in line.split()])\n",
    "N=gaujor(A,B)\n",
    "P=matmulti(M,N)\n",
    "print(\"the result of multiplication is:\")\n",
    "print(P)"
   ]
  }
 ],
 "metadata": {
  "kernelspec": {
   "display_name": "Python 3",
   "language": "python",
   "name": "python3"
  },
  "language_info": {
   "codemirror_mode": {
    "name": "ipython",
    "version": 3
   },
   "file_extension": ".py",
   "mimetype": "text/x-python",
   "name": "python",
   "nbconvert_exporter": "python",
   "pygments_lexer": "ipython3",
   "version": "3.8.3"
  }
 },
 "nbformat": 4,
 "nbformat_minor": 4
}
