{
 "cells": [
  {
   "cell_type": "code",
   "execution_count": 2,
   "metadata": {},
   "outputs": [
    {
     "name": "stdout",
     "output_type": "stream",
     "text": [
      "total distance 70.0\n",
      "total counting 36\n",
      "average distance between two points 1.9444444444444444\n"
     ]
    }
   ],
   "source": [
    "dist=0.0\n",
    "avdist=0.0\n",
    "count=0\n",
    "\n",
    "for i in range(6):\n",
    "    for j in range(6):\n",
    "        dist=dist+abs(j-i)\n",
    "        count=count+1\n",
    "print(\"total distance\",dist)\n",
    "print(\"total counting\",count)\n",
    "        \n",
    "avdist=dist/count\n",
    "print(\"average distance between two points\",avdist)\n",
    "        "
   ]
  },
  {
   "cell_type": "code",
   "execution_count": 7,
   "metadata": {},
   "outputs": [
    {
     "name": "stdout",
     "output_type": "stream",
     "text": [
      "total distance 5040.0\n",
      "total counting 1296\n",
      "average distance between two points in 6 by 6 2d grid is 3.888888888888889\n"
     ]
    }
   ],
   "source": [
    "grid=[[(i,j) for j in range(6)] for i in range(6)]\n",
    "dist=0.0\n",
    "avdist=0.0\n",
    "count=0\n",
    "\n",
    "for i in range(6):\n",
    "    for j in range(6):\n",
    "        for k in range(6):\n",
    "            for l in range(6):\n",
    "                dist=dist+abs(k-i)+abs(l-j)\n",
    "                count+=1\n",
    "\n",
    "print(\"total distance\",dist)\n",
    "print(\"total counting\",count)\n",
    "\n",
    "avdist=dist/count\n",
    "print(\"average distance between two points in 6 by 6 2d grid is\", avdist)\n",
    "\n"
   ]
  },
  {
   "cell_type": "code",
   "execution_count": 8,
   "metadata": {},
   "outputs": [
    {
     "name": "stdout",
     "output_type": "stream",
     "text": [
      "[[(0, 0), (0, 1), (0, 2), (0, 3), (0, 4), (0, 5)], [(1, 0), (1, 1), (1, 2), (1, 3), (1, 4), (1, 5)], [(2, 0), (2, 1), (2, 2), (2, 3), (2, 4), (2, 5)], [(3, 0), (3, 1), (3, 2), (3, 3), (3, 4), (3, 5)], [(4, 0), (4, 1), (4, 2), (4, 3), (4, 4), (4, 5)], [(5, 0), (5, 1), (5, 2), (5, 3), (5, 4), (5, 5)]]\n"
     ]
    }
   ],
   "source": [
    "grid=[[(i,j) for j in range(6)] for i in range(6)]\n",
    "print(grid)"
   ]
  }
 ],
 "metadata": {
  "kernelspec": {
   "display_name": "Python 3",
   "language": "python",
   "name": "python3"
  },
  "language_info": {
   "codemirror_mode": {
    "name": "ipython",
    "version": 3
   },
   "file_extension": ".py",
   "mimetype": "text/x-python",
   "name": "python",
   "nbconvert_exporter": "python",
   "pygments_lexer": "ipython3",
   "version": "3.8.3"
  }
 },
 "nbformat": 4,
 "nbformat_minor": 4
}
